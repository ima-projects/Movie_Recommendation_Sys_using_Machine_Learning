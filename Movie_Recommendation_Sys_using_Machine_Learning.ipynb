{
  "nbformat": 4,
  "nbformat_minor": 0,
  "metadata": {
    "colab": {
      "provenance": [],
      "authorship_tag": "ABX9TyMq0spbW89tQrYvT9L1nn6v",
      "include_colab_link": true
    },
    "kernelspec": {
      "name": "python3",
      "display_name": "Python 3"
    },
    "language_info": {
      "name": "python"
    }
  },
  "cells": [
    {
      "cell_type": "markdown",
      "metadata": {
        "id": "view-in-github",
        "colab_type": "text"
      },
      "source": [
        "<a href=\"https://colab.research.google.com/github/ima-projects/Movie_Recommendation_Sys_using_Machine_Learning/blob/main/Movie_Recommendation_Sys_using_Machine_Learning.ipynb\" target=\"_parent\"><img src=\"https://colab.research.google.com/assets/colab-badge.svg\" alt=\"Open In Colab\"/></a>"
      ]
    },
    {
      "cell_type": "markdown",
      "source": [
        "Importing the dependencies"
      ],
      "metadata": {
        "id": "S7GFlM-g2LzL"
      }
    },
    {
      "cell_type": "code",
      "source": [
        "import numpy as np\n",
        "import pandas as pd\n",
        "import difflib\n",
        "from sklearn.feature_extraction.text import TfidfVectorizer\n",
        "from sklearn.metrics.pairwise import cosine_similarity\n"
      ],
      "metadata": {
        "id": "hlpD6FcA2Owt"
      },
      "execution_count": 18,
      "outputs": []
    },
    {
      "cell_type": "markdown",
      "source": [
        "Data Collection and Pre Processing"
      ],
      "metadata": {
        "id": "wo5qIapO5kEv"
      }
    },
    {
      "cell_type": "code",
      "source": [
        "# loading the data from the csv file to a pandas dataframe\n",
        "movies_data = pd.read_csv('/content/movies.csv', error_bad_lines=False, engine=\"python\")"
      ],
      "metadata": {
        "id": "eCaseesB5rjJ",
        "colab": {
          "base_uri": "https://localhost:8080/"
        },
        "outputId": "712cd4f8-38de-4c41-a1dc-dc6b67912daa"
      },
      "execution_count": 28,
      "outputs": [
        {
          "output_type": "stream",
          "name": "stderr",
          "text": [
            "<ipython-input-28-4565235ff1f9>:2: FutureWarning: The error_bad_lines argument has been deprecated and will be removed in a future version. Use on_bad_lines in the future.\n",
            "\n",
            "\n",
            "  movies_data = pd.read_csv('/content/movies.csv', error_bad_lines=False, engine=\"python\")\n",
            "Skipping line 1932: unexpected end of data\n"
          ]
        }
      ]
    },
    {
      "cell_type": "code",
      "source": [
        "# printing the first 5 rows of the dataframe\n",
        "movies_data.head()"
      ],
      "metadata": {
        "colab": {
          "base_uri": "https://localhost:8080/",
          "height": 803
        },
        "id": "gId1hpyS6QEE",
        "outputId": "b4a088f7-abc1-4568-cb10-2a4edc77d208"
      },
      "execution_count": 26,
      "outputs": [
        {
          "output_type": "execute_result",
          "data": {
            "text/plain": [
              "   index     budget                                    genres  \\\n",
              "0      0  237000000  Action Adventure Fantasy Science Fiction   \n",
              "1      1  300000000                  Adventure Fantasy Action   \n",
              "2      2  245000000                    Action Adventure Crime   \n",
              "3      3  250000000               Action Crime Drama Thriller   \n",
              "4      4  260000000          Action Adventure Science Fiction   \n",
              "\n",
              "                                       homepage      id  \\\n",
              "0                   http://www.avatarmovie.com/   19995   \n",
              "1  http://disney.go.com/disneypictures/pirates/     285   \n",
              "2   http://www.sonypictures.com/movies/spectre/  206647   \n",
              "3            http://www.thedarkknightrises.com/   49026   \n",
              "4          http://movies.disney.com/john-carter   49529   \n",
              "\n",
              "                                            keywords original_language  \\\n",
              "0  culture clash future space war space colony so...                en   \n",
              "1  ocean drug abuse exotic island east india trad...                en   \n",
              "2         spy based on novel secret agent sequel mi6                en   \n",
              "3  dc comics crime fighter terrorist secret ident...                en   \n",
              "4  based on novel mars medallion space travel pri...                en   \n",
              "\n",
              "                             original_title  \\\n",
              "0                                    Avatar   \n",
              "1  Pirates of the Caribbean: At World's End   \n",
              "2                                   Spectre   \n",
              "3                     The Dark Knight Rises   \n",
              "4                               John Carter   \n",
              "\n",
              "                                            overview  popularity  ... runtime  \\\n",
              "0  In the 22nd century, a paraplegic Marine is di...  150.437577  ...   162.0   \n",
              "1  Captain Barbossa, long believed to be dead, ha...  139.082615  ...   169.0   \n",
              "2  A cryptic message from Bond’s past sends him o...  107.376788  ...   148.0   \n",
              "3  Following the death of District Attorney Harve...  112.312950  ...   165.0   \n",
              "4  John Carter is a war-weary, former military ca...   43.926995  ...   132.0   \n",
              "\n",
              "                                    spoken_languages    status  \\\n",
              "0  [{\"iso_639_1\": \"en\", \"name\": \"English\"}, {\"iso...  Released   \n",
              "1           [{\"iso_639_1\": \"en\", \"name\": \"English\"}]  Released   \n",
              "2  [{\"iso_639_1\": \"fr\", \"name\": \"Fran\\u00e7ais\"},...  Released   \n",
              "3           [{\"iso_639_1\": \"en\", \"name\": \"English\"}]  Released   \n",
              "4           [{\"iso_639_1\": \"en\", \"name\": \"English\"}]  Released   \n",
              "\n",
              "                                          tagline  \\\n",
              "0                     Enter the World of Pandora.   \n",
              "1  At the end of the world, the adventure begins.   \n",
              "2                           A Plan No One Escapes   \n",
              "3                                 The Legend Ends   \n",
              "4            Lost in our world, found in another.   \n",
              "\n",
              "                                      title vote_average vote_count  \\\n",
              "0                                    Avatar          7.2      11800   \n",
              "1  Pirates of the Caribbean: At World's End          6.9       4500   \n",
              "2                                   Spectre          6.3       4466   \n",
              "3                     The Dark Knight Rises          7.6       9106   \n",
              "4                               John Carter          6.1       2124   \n",
              "\n",
              "                                                cast  \\\n",
              "0  Sam Worthington Zoe Saldana Sigourney Weaver S...   \n",
              "1  Johnny Depp Orlando Bloom Keira Knightley Stel...   \n",
              "2  Daniel Craig Christoph Waltz L\\u00e9a Seydoux ...   \n",
              "3  Christian Bale Michael Caine Gary Oldman Anne ...   \n",
              "4  Taylor Kitsch Lynn Collins Samantha Morton Wil...   \n",
              "\n",
              "                                                crew           director  \n",
              "0  [{'name': 'Stephen E. Rivkin', 'gender': 0, 'd...      James Cameron  \n",
              "1  [{'name': 'Dariusz Wolski', 'gender': 2, 'depa...     Gore Verbinski  \n",
              "2  [{'name': 'Thomas Newman', 'gender': 2, 'depar...         Sam Mendes  \n",
              "3  [{'name': 'Hans Zimmer', 'gender': 2, 'departm...  Christopher Nolan  \n",
              "4  [{'name': 'Andrew Stanton', 'gender': 2, 'depa...     Andrew Stanton  \n",
              "\n",
              "[5 rows x 24 columns]"
            ],
            "text/html": [
              "\n",
              "  <div id=\"df-315552d8-c025-4164-b045-91b45956d5a0\">\n",
              "    <div class=\"colab-df-container\">\n",
              "      <div>\n",
              "<style scoped>\n",
              "    .dataframe tbody tr th:only-of-type {\n",
              "        vertical-align: middle;\n",
              "    }\n",
              "\n",
              "    .dataframe tbody tr th {\n",
              "        vertical-align: top;\n",
              "    }\n",
              "\n",
              "    .dataframe thead th {\n",
              "        text-align: right;\n",
              "    }\n",
              "</style>\n",
              "<table border=\"1\" class=\"dataframe\">\n",
              "  <thead>\n",
              "    <tr style=\"text-align: right;\">\n",
              "      <th></th>\n",
              "      <th>index</th>\n",
              "      <th>budget</th>\n",
              "      <th>genres</th>\n",
              "      <th>homepage</th>\n",
              "      <th>id</th>\n",
              "      <th>keywords</th>\n",
              "      <th>original_language</th>\n",
              "      <th>original_title</th>\n",
              "      <th>overview</th>\n",
              "      <th>popularity</th>\n",
              "      <th>...</th>\n",
              "      <th>runtime</th>\n",
              "      <th>spoken_languages</th>\n",
              "      <th>status</th>\n",
              "      <th>tagline</th>\n",
              "      <th>title</th>\n",
              "      <th>vote_average</th>\n",
              "      <th>vote_count</th>\n",
              "      <th>cast</th>\n",
              "      <th>crew</th>\n",
              "      <th>director</th>\n",
              "    </tr>\n",
              "  </thead>\n",
              "  <tbody>\n",
              "    <tr>\n",
              "      <th>0</th>\n",
              "      <td>0</td>\n",
              "      <td>237000000</td>\n",
              "      <td>Action Adventure Fantasy Science Fiction</td>\n",
              "      <td>http://www.avatarmovie.com/</td>\n",
              "      <td>19995</td>\n",
              "      <td>culture clash future space war space colony so...</td>\n",
              "      <td>en</td>\n",
              "      <td>Avatar</td>\n",
              "      <td>In the 22nd century, a paraplegic Marine is di...</td>\n",
              "      <td>150.437577</td>\n",
              "      <td>...</td>\n",
              "      <td>162.0</td>\n",
              "      <td>[{\"iso_639_1\": \"en\", \"name\": \"English\"}, {\"iso...</td>\n",
              "      <td>Released</td>\n",
              "      <td>Enter the World of Pandora.</td>\n",
              "      <td>Avatar</td>\n",
              "      <td>7.2</td>\n",
              "      <td>11800</td>\n",
              "      <td>Sam Worthington Zoe Saldana Sigourney Weaver S...</td>\n",
              "      <td>[{'name': 'Stephen E. Rivkin', 'gender': 0, 'd...</td>\n",
              "      <td>James Cameron</td>\n",
              "    </tr>\n",
              "    <tr>\n",
              "      <th>1</th>\n",
              "      <td>1</td>\n",
              "      <td>300000000</td>\n",
              "      <td>Adventure Fantasy Action</td>\n",
              "      <td>http://disney.go.com/disneypictures/pirates/</td>\n",
              "      <td>285</td>\n",
              "      <td>ocean drug abuse exotic island east india trad...</td>\n",
              "      <td>en</td>\n",
              "      <td>Pirates of the Caribbean: At World's End</td>\n",
              "      <td>Captain Barbossa, long believed to be dead, ha...</td>\n",
              "      <td>139.082615</td>\n",
              "      <td>...</td>\n",
              "      <td>169.0</td>\n",
              "      <td>[{\"iso_639_1\": \"en\", \"name\": \"English\"}]</td>\n",
              "      <td>Released</td>\n",
              "      <td>At the end of the world, the adventure begins.</td>\n",
              "      <td>Pirates of the Caribbean: At World's End</td>\n",
              "      <td>6.9</td>\n",
              "      <td>4500</td>\n",
              "      <td>Johnny Depp Orlando Bloom Keira Knightley Stel...</td>\n",
              "      <td>[{'name': 'Dariusz Wolski', 'gender': 2, 'depa...</td>\n",
              "      <td>Gore Verbinski</td>\n",
              "    </tr>\n",
              "    <tr>\n",
              "      <th>2</th>\n",
              "      <td>2</td>\n",
              "      <td>245000000</td>\n",
              "      <td>Action Adventure Crime</td>\n",
              "      <td>http://www.sonypictures.com/movies/spectre/</td>\n",
              "      <td>206647</td>\n",
              "      <td>spy based on novel secret agent sequel mi6</td>\n",
              "      <td>en</td>\n",
              "      <td>Spectre</td>\n",
              "      <td>A cryptic message from Bond’s past sends him o...</td>\n",
              "      <td>107.376788</td>\n",
              "      <td>...</td>\n",
              "      <td>148.0</td>\n",
              "      <td>[{\"iso_639_1\": \"fr\", \"name\": \"Fran\\u00e7ais\"},...</td>\n",
              "      <td>Released</td>\n",
              "      <td>A Plan No One Escapes</td>\n",
              "      <td>Spectre</td>\n",
              "      <td>6.3</td>\n",
              "      <td>4466</td>\n",
              "      <td>Daniel Craig Christoph Waltz L\\u00e9a Seydoux ...</td>\n",
              "      <td>[{'name': 'Thomas Newman', 'gender': 2, 'depar...</td>\n",
              "      <td>Sam Mendes</td>\n",
              "    </tr>\n",
              "    <tr>\n",
              "      <th>3</th>\n",
              "      <td>3</td>\n",
              "      <td>250000000</td>\n",
              "      <td>Action Crime Drama Thriller</td>\n",
              "      <td>http://www.thedarkknightrises.com/</td>\n",
              "      <td>49026</td>\n",
              "      <td>dc comics crime fighter terrorist secret ident...</td>\n",
              "      <td>en</td>\n",
              "      <td>The Dark Knight Rises</td>\n",
              "      <td>Following the death of District Attorney Harve...</td>\n",
              "      <td>112.312950</td>\n",
              "      <td>...</td>\n",
              "      <td>165.0</td>\n",
              "      <td>[{\"iso_639_1\": \"en\", \"name\": \"English\"}]</td>\n",
              "      <td>Released</td>\n",
              "      <td>The Legend Ends</td>\n",
              "      <td>The Dark Knight Rises</td>\n",
              "      <td>7.6</td>\n",
              "      <td>9106</td>\n",
              "      <td>Christian Bale Michael Caine Gary Oldman Anne ...</td>\n",
              "      <td>[{'name': 'Hans Zimmer', 'gender': 2, 'departm...</td>\n",
              "      <td>Christopher Nolan</td>\n",
              "    </tr>\n",
              "    <tr>\n",
              "      <th>4</th>\n",
              "      <td>4</td>\n",
              "      <td>260000000</td>\n",
              "      <td>Action Adventure Science Fiction</td>\n",
              "      <td>http://movies.disney.com/john-carter</td>\n",
              "      <td>49529</td>\n",
              "      <td>based on novel mars medallion space travel pri...</td>\n",
              "      <td>en</td>\n",
              "      <td>John Carter</td>\n",
              "      <td>John Carter is a war-weary, former military ca...</td>\n",
              "      <td>43.926995</td>\n",
              "      <td>...</td>\n",
              "      <td>132.0</td>\n",
              "      <td>[{\"iso_639_1\": \"en\", \"name\": \"English\"}]</td>\n",
              "      <td>Released</td>\n",
              "      <td>Lost in our world, found in another.</td>\n",
              "      <td>John Carter</td>\n",
              "      <td>6.1</td>\n",
              "      <td>2124</td>\n",
              "      <td>Taylor Kitsch Lynn Collins Samantha Morton Wil...</td>\n",
              "      <td>[{'name': 'Andrew Stanton', 'gender': 2, 'depa...</td>\n",
              "      <td>Andrew Stanton</td>\n",
              "    </tr>\n",
              "  </tbody>\n",
              "</table>\n",
              "<p>5 rows × 24 columns</p>\n",
              "</div>\n",
              "      <button class=\"colab-df-convert\" onclick=\"convertToInteractive('df-315552d8-c025-4164-b045-91b45956d5a0')\"\n",
              "              title=\"Convert this dataframe to an interactive table.\"\n",
              "              style=\"display:none;\">\n",
              "        \n",
              "  <svg xmlns=\"http://www.w3.org/2000/svg\" height=\"24px\"viewBox=\"0 0 24 24\"\n",
              "       width=\"24px\">\n",
              "    <path d=\"M0 0h24v24H0V0z\" fill=\"none\"/>\n",
              "    <path d=\"M18.56 5.44l.94 2.06.94-2.06 2.06-.94-2.06-.94-.94-2.06-.94 2.06-2.06.94zm-11 1L8.5 8.5l.94-2.06 2.06-.94-2.06-.94L8.5 2.5l-.94 2.06-2.06.94zm10 10l.94 2.06.94-2.06 2.06-.94-2.06-.94-.94-2.06-.94 2.06-2.06.94z\"/><path d=\"M17.41 7.96l-1.37-1.37c-.4-.4-.92-.59-1.43-.59-.52 0-1.04.2-1.43.59L10.3 9.45l-7.72 7.72c-.78.78-.78 2.05 0 2.83L4 21.41c.39.39.9.59 1.41.59.51 0 1.02-.2 1.41-.59l7.78-7.78 2.81-2.81c.8-.78.8-2.07 0-2.86zM5.41 20L4 18.59l7.72-7.72 1.47 1.35L5.41 20z\"/>\n",
              "  </svg>\n",
              "      </button>\n",
              "      \n",
              "  <style>\n",
              "    .colab-df-container {\n",
              "      display:flex;\n",
              "      flex-wrap:wrap;\n",
              "      gap: 12px;\n",
              "    }\n",
              "\n",
              "    .colab-df-convert {\n",
              "      background-color: #E8F0FE;\n",
              "      border: none;\n",
              "      border-radius: 50%;\n",
              "      cursor: pointer;\n",
              "      display: none;\n",
              "      fill: #1967D2;\n",
              "      height: 32px;\n",
              "      padding: 0 0 0 0;\n",
              "      width: 32px;\n",
              "    }\n",
              "\n",
              "    .colab-df-convert:hover {\n",
              "      background-color: #E2EBFA;\n",
              "      box-shadow: 0px 1px 2px rgba(60, 64, 67, 0.3), 0px 1px 3px 1px rgba(60, 64, 67, 0.15);\n",
              "      fill: #174EA6;\n",
              "    }\n",
              "\n",
              "    [theme=dark] .colab-df-convert {\n",
              "      background-color: #3B4455;\n",
              "      fill: #D2E3FC;\n",
              "    }\n",
              "\n",
              "    [theme=dark] .colab-df-convert:hover {\n",
              "      background-color: #434B5C;\n",
              "      box-shadow: 0px 1px 3px 1px rgba(0, 0, 0, 0.15);\n",
              "      filter: drop-shadow(0px 1px 2px rgba(0, 0, 0, 0.3));\n",
              "      fill: #FFFFFF;\n",
              "    }\n",
              "  </style>\n",
              "\n",
              "      <script>\n",
              "        const buttonEl =\n",
              "          document.querySelector('#df-315552d8-c025-4164-b045-91b45956d5a0 button.colab-df-convert');\n",
              "        buttonEl.style.display =\n",
              "          google.colab.kernel.accessAllowed ? 'block' : 'none';\n",
              "\n",
              "        async function convertToInteractive(key) {\n",
              "          const element = document.querySelector('#df-315552d8-c025-4164-b045-91b45956d5a0');\n",
              "          const dataTable =\n",
              "            await google.colab.kernel.invokeFunction('convertToInteractive',\n",
              "                                                     [key], {});\n",
              "          if (!dataTable) return;\n",
              "\n",
              "          const docLinkHtml = 'Like what you see? Visit the ' +\n",
              "            '<a target=\"_blank\" href=https://colab.research.google.com/notebooks/data_table.ipynb>data table notebook</a>'\n",
              "            + ' to learn more about interactive tables.';\n",
              "          element.innerHTML = '';\n",
              "          dataTable['output_type'] = 'display_data';\n",
              "          await google.colab.output.renderOutput(dataTable, element);\n",
              "          const docLink = document.createElement('div');\n",
              "          docLink.innerHTML = docLinkHtml;\n",
              "          element.appendChild(docLink);\n",
              "        }\n",
              "      </script>\n",
              "    </div>\n",
              "  </div>\n",
              "  "
            ]
          },
          "metadata": {},
          "execution_count": 26
        }
      ]
    },
    {
      "cell_type": "code",
      "source": [
        "# number of rows and columns in the dataframe\n",
        "\n",
        "movies_data.shape"
      ],
      "metadata": {
        "colab": {
          "base_uri": "https://localhost:8080/"
        },
        "id": "NfUMMWLT7p0D",
        "outputId": "a80ed268-0c57-41f5-d559-7c2a5a5b310a"
      },
      "execution_count": 38,
      "outputs": [
        {
          "output_type": "execute_result",
          "data": {
            "text/plain": [
              "(1930, 24)"
            ]
          },
          "metadata": {},
          "execution_count": 38
        }
      ]
    },
    {
      "cell_type": "code",
      "source": [
        "# selecting the relevant features for recommendation\n",
        "\n",
        "selected_features = ['genres','keywords','tagline','cast','director']\n",
        "print(selected_features)"
      ],
      "metadata": {
        "colab": {
          "base_uri": "https://localhost:8080/"
        },
        "id": "7yqeT2E08PuM",
        "outputId": "d2a0819f-2605-4b51-b563-4bc0f9d80757"
      },
      "execution_count": 39,
      "outputs": [
        {
          "output_type": "stream",
          "name": "stdout",
          "text": [
            "['genres', 'keywords', 'tagline', 'cast', 'director']\n"
          ]
        }
      ]
    },
    {
      "cell_type": "code",
      "source": [
        "# replacing the null values (missing values) with null string\n",
        "\n",
        "for feature in selected_features:\n",
        "  movies_data[feature] = movies_data[feature].fillna('')"
      ],
      "metadata": {
        "id": "YFZGbMHw9UvY"
      },
      "execution_count": 40,
      "outputs": []
    },
    {
      "cell_type": "code",
      "source": [
        "# combining all the 5 selected features\n",
        "\n",
        "combined_features = movies_data['genres']+''+movies_data['keywords']+''+movies_data['tagline']+''+movies_data['cast']+''+movies_data['director']"
      ],
      "metadata": {
        "id": "uw7ao1m9-i9N"
      },
      "execution_count": 41,
      "outputs": []
    },
    {
      "cell_type": "code",
      "source": [
        "print(combined_features)"
      ],
      "metadata": {
        "colab": {
          "base_uri": "https://localhost:8080/"
        },
        "id": "UUZyiFYr_aMZ",
        "outputId": "1d5bf3db-1d48-41ab-ff81-9ba7685a9194"
      },
      "execution_count": 42,
      "outputs": [
        {
          "output_type": "stream",
          "name": "stdout",
          "text": [
            "0       Action Adventure Fantasy Science Fictioncultur...\n",
            "1       Adventure Fantasy Actionocean drug abuse exoti...\n",
            "2       Action Adventure Crimespy based on novel secre...\n",
            "3       Action Crime Drama Thrillerdc comics crime fig...\n",
            "4       Action Adventure Science Fictionbased on novel...\n",
            "                              ...                        \n",
            "1925    Drama Thrillerholiday prison thailand drug inj...\n",
            "1926    Horror ThrillerFear The Demon That Doesn't Fea...\n",
            "1927    Comedy Romance Dramarole reversal mistaken ide...\n",
            "1928    Drama Thrillersouthern usa rape bar wife husba...\n",
            "1929    Comedy Dramaflying 1970s false identity biogra...\n",
            "Length: 1930, dtype: object\n"
          ]
        }
      ]
    },
    {
      "cell_type": "code",
      "source": [
        "# converting the text data to feature vectors (producing a numerical value)\n",
        "\n",
        "vectorizer = TfidfVectorizer()"
      ],
      "metadata": {
        "id": "DRGnjyHJABMd"
      },
      "execution_count": 43,
      "outputs": []
    },
    {
      "cell_type": "code",
      "source": [
        "feature_vectors = vectorizer.fit_transform(combined_features)"
      ],
      "metadata": {
        "id": "ILjQo7NJAYPq"
      },
      "execution_count": 44,
      "outputs": []
    },
    {
      "cell_type": "code",
      "source": [
        "print(feature_vectors)"
      ],
      "metadata": {
        "colab": {
          "base_uri": "https://localhost:8080/"
        },
        "id": "FZJs5GiEA4YH",
        "outputId": "02c1f6ed-1927-43a9-9c35-2bf484efa9a2"
      },
      "execution_count": 45,
      "outputs": [
        {
          "output_type": "stream",
          "name": "stdout",
          "text": [
            "  (0, 1739)\t0.1732832370604628\n",
            "  (0, 9954)\t0.2641441125259753\n",
            "  (0, 7935)\t0.15967901558833805\n",
            "  (0, 6938)\t0.2408875423093321\n",
            "  (0, 11176)\t0.17218306838307149\n",
            "  (0, 12818)\t0.2101440287492308\n",
            "  (0, 10758)\t0.21367909936508256\n",
            "  (0, 10296)\t0.2176309720926889\n",
            "  (0, 13309)\t0.20694616839410457\n",
            "  (0, 13139)\t0.22211123587474693\n",
            "  (0, 10314)\t0.15682178900687538\n",
            "  (0, 8865)\t0.25053989105385055\n",
            "  (0, 8666)\t0.09182709195712918\n",
            "  (0, 13127)\t0.12257060551723051\n",
            "  (0, 11635)\t0.07667997159567357\n",
            "  (0, 10924)\t0.2641441125259753\n",
            "  (0, 2253)\t0.2408875423093321\n",
            "  (0, 12696)\t0.13255351987674138\n",
            "  (0, 10989)\t0.32560479671580106\n",
            "  (0, 4887)\t0.17218306838307149\n",
            "  (0, 2152)\t0.2408875423093321\n",
            "  (0, 4459)\t0.2641441125259753\n",
            "  (0, 10448)\t0.09525269383470111\n",
            "  (0, 4239)\t0.10913125975044437\n",
            "  (0, 211)\t0.07970236276519012\n",
            "  :\t:\n",
            "  (1929, 5411)\t0.2118174049279699\n",
            "  (1929, 12320)\t0.2037760590390897\n",
            "  (1929, 5042)\t0.19457105212230053\n",
            "  (1929, 5461)\t0.22972351619443898\n",
            "  (1929, 5005)\t0.20040482263523168\n",
            "  (1929, 7573)\t0.21674978761676433\n",
            "  (1929, 22)\t0.20754478069997515\n",
            "  (1929, 4085)\t0.22972351619443898\n",
            "  (1929, 12164)\t0.17666494085583145\n",
            "  (1929, 5054)\t0.15373329646589717\n",
            "  (1929, 7105)\t0.21674978761676433\n",
            "  (1929, 5179)\t0.17666494085583145\n",
            "  (1929, 2998)\t0.15941858805016207\n",
            "  (1929, 6524)\t0.18342622998382577\n",
            "  (1929, 5860)\t0.17517643285796133\n",
            "  (1929, 8085)\t0.2037760590390897\n",
            "  (1929, 428)\t0.20040482263523168\n",
            "  (1929, 12804)\t0.18743109405755706\n",
            "  (1929, 11239)\t0.1386016389950203\n",
            "  (1929, 9822)\t0.13906875899489812\n",
            "  (1929, 2273)\t0.07620583691631225\n",
            "  (1929, 6119)\t0.10956239831876903\n",
            "  (1929, 6050)\t0.15685744938936863\n",
            "  (1929, 8666)\t0.087571329941227\n",
            "  (1929, 11635)\t0.1462524174374078\n"
          ]
        }
      ]
    },
    {
      "cell_type": "markdown",
      "source": [
        "Cosine Similarity"
      ],
      "metadata": {
        "id": "_pUOntjOBSDR"
      }
    },
    {
      "cell_type": "code",
      "source": [
        "# getting the similarity scores using cosine similarity (producing a numerical similarity score value)\n",
        "\n",
        "similarity = cosine_similarity(feature_vectors)"
      ],
      "metadata": {
        "id": "YKzTrJL2BUmx"
      },
      "execution_count": 46,
      "outputs": []
    },
    {
      "cell_type": "code",
      "source": [
        "print(similarity)"
      ],
      "metadata": {
        "colab": {
          "base_uri": "https://localhost:8080/"
        },
        "id": "YL3B5IkDCCUR",
        "outputId": "3948d4e5-98d3-4931-d05c-afcea8803d16"
      },
      "execution_count": 47,
      "outputs": [
        {
          "output_type": "stream",
          "name": "stdout",
          "text": [
            "[[1.         0.06521872 0.01174355 ... 0.00771006 0.         0.01925605]\n",
            " [0.06521872 1.         0.02542042 ... 0.01356424 0.07247026 0.04374193]\n",
            " [0.01174355 0.02542042 1.         ... 0.         0.         0.        ]\n",
            " ...\n",
            " [0.00771006 0.01356424 0.         ... 1.         0.         0.05492995]\n",
            " [0.         0.07247026 0.         ... 0.         1.         0.        ]\n",
            " [0.01925605 0.04374193 0.         ... 0.05492995 0.         1.        ]]\n"
          ]
        }
      ]
    },
    {
      "cell_type": "code",
      "source": [
        "print(similarity.shape)"
      ],
      "metadata": {
        "colab": {
          "base_uri": "https://localhost:8080/"
        },
        "id": "a-FHZ_SKCI3F",
        "outputId": "0b05c821-fb67-47aa-ad61-83be2cdefebf"
      },
      "execution_count": 48,
      "outputs": [
        {
          "output_type": "stream",
          "name": "stdout",
          "text": [
            "(1930, 1930)\n"
          ]
        }
      ]
    },
    {
      "cell_type": "markdown",
      "source": [
        "Getting the movie name from user"
      ],
      "metadata": {
        "id": "NMqcDGJ3l1mq"
      }
    },
    {
      "cell_type": "code",
      "source": [
        "# getting the movie name from the user (input)\n",
        "\n",
        "movie_name = input(' Enter your favorite movie name: ')"
      ],
      "metadata": {
        "colab": {
          "base_uri": "https://localhost:8080/"
        },
        "id": "MfQ1xbOsCljf",
        "outputId": "ba074b4b-6f49-4bd1-cbb9-0179b9c4b9e4"
      },
      "execution_count": 49,
      "outputs": [
        {
          "name": "stdout",
          "output_type": "stream",
          "text": [
            " Enter your favorite movie name: iron man\n"
          ]
        }
      ]
    },
    {
      "cell_type": "code",
      "source": [
        "# creating a list with all the movie names given in the dataset (to compare with the value given by user input)\n",
        "\n",
        "list_of_all_titles = movies_data['title'].tolist()\n",
        "first_ten_titles = list_of_all_titles[:10]\n",
        "\n",
        "for title in first_ten_titles:\n",
        "    print(title)"
      ],
      "metadata": {
        "colab": {
          "base_uri": "https://localhost:8080/"
        },
        "id": "eGpZakscDEvD",
        "outputId": "c4bfb934-5b6a-4af0-88c0-478456ec7261"
      },
      "execution_count": 55,
      "outputs": [
        {
          "output_type": "stream",
          "name": "stdout",
          "text": [
            "Avatar\n",
            "Pirates of the Caribbean: At World's End\n",
            "Spectre\n",
            "The Dark Knight Rises\n",
            "John Carter\n",
            "Spider-Man 3\n",
            "Tangled\n",
            "Avengers: Age of Ultron\n",
            "Harry Potter and the Half-Blood Prince\n",
            "Batman v Superman: Dawn of Justice\n"
          ]
        }
      ]
    },
    {
      "cell_type": "code",
      "source": [
        "# finding the close match for the movie name given by the user\n",
        "\n",
        "find_close_match = difflib.get_close_matches(movie_name, list_of_all_titles)\n",
        "print(find_close_match)"
      ],
      "metadata": {
        "colab": {
          "base_uri": "https://localhost:8080/"
        },
        "id": "OwhoDWcVQHJq",
        "outputId": "6077d47c-9d8c-47f5-d704-a007b0926999"
      },
      "execution_count": 51,
      "outputs": [
        {
          "output_type": "stream",
          "name": "stdout",
          "text": [
            "['Iron Man', 'Iron Man 3', 'Iron Man 2']\n"
          ]
        }
      ]
    },
    {
      "cell_type": "code",
      "source": [
        "# finding the closest/most similar match in the dataset\n",
        "\n",
        "close_match = find_close_match[0]\n",
        "print(close_match)"
      ],
      "metadata": {
        "colab": {
          "base_uri": "https://localhost:8080/"
        },
        "id": "azsx7yZ3Q8-0",
        "outputId": "789df661-d6af-4d0c-b0a3-d64af6c4779a"
      },
      "execution_count": 52,
      "outputs": [
        {
          "output_type": "stream",
          "name": "stdout",
          "text": [
            "Iron Man\n"
          ]
        }
      ]
    },
    {
      "cell_type": "code",
      "source": [
        "# finding the index of the (most similar) movie with title\n",
        "\n",
        "index_of_the_movie = movies_data[movies_data.title == close_match]['index'].values[0]\n",
        "print(index_of_the_movie)"
      ],
      "metadata": {
        "colab": {
          "base_uri": "https://localhost:8080/"
        },
        "id": "lRnjVb2PRQ64",
        "outputId": "119467ce-1b52-4e22-f1bf-31fbb6e94fa7"
      },
      "execution_count": 53,
      "outputs": [
        {
          "output_type": "stream",
          "name": "stdout",
          "text": [
            "68\n"
          ]
        }
      ]
    },
    {
      "cell_type": "code",
      "source": [
        "# get a list of similar movies (compared to the one most similar movie i.e. Iron Man which was found in the dataset)\n",
        "\n",
        "similarity_score = list(enumerate(similarity[index_of_the_movie]))\n",
        "first_ten_scores = similarity_score[:10]\n",
        "\n",
        "for score in first_ten_scores:\n",
        "    print(first_ten_scores)"
      ],
      "metadata": {
        "colab": {
          "base_uri": "https://localhost:8080/"
        },
        "id": "P62111eATHDh",
        "outputId": "7bf36883-4103-408d-89b5-30628cfaf90e"
      },
      "execution_count": 54,
      "outputs": [
        {
          "output_type": "stream",
          "name": "stdout",
          "text": [
            "[(0, 0.012946954286874231), (1, 0.035109046432793264), (2, 0.004721167880254073), (3, 0.005016222666173034), (4, 0.012415938959232146), (5, 0.004610648680203248), (6, 0.05745755019865102), (7, 0.13893570045682588), (8, 0.0), (9, 0.03043443641849399)]\n",
            "[(0, 0.012946954286874231), (1, 0.035109046432793264), (2, 0.004721167880254073), (3, 0.005016222666173034), (4, 0.012415938959232146), (5, 0.004610648680203248), (6, 0.05745755019865102), (7, 0.13893570045682588), (8, 0.0), (9, 0.03043443641849399)]\n",
            "[(0, 0.012946954286874231), (1, 0.035109046432793264), (2, 0.004721167880254073), (3, 0.005016222666173034), (4, 0.012415938959232146), (5, 0.004610648680203248), (6, 0.05745755019865102), (7, 0.13893570045682588), (8, 0.0), (9, 0.03043443641849399)]\n",
            "[(0, 0.012946954286874231), (1, 0.035109046432793264), (2, 0.004721167880254073), (3, 0.005016222666173034), (4, 0.012415938959232146), (5, 0.004610648680203248), (6, 0.05745755019865102), (7, 0.13893570045682588), (8, 0.0), (9, 0.03043443641849399)]\n",
            "[(0, 0.012946954286874231), (1, 0.035109046432793264), (2, 0.004721167880254073), (3, 0.005016222666173034), (4, 0.012415938959232146), (5, 0.004610648680203248), (6, 0.05745755019865102), (7, 0.13893570045682588), (8, 0.0), (9, 0.03043443641849399)]\n",
            "[(0, 0.012946954286874231), (1, 0.035109046432793264), (2, 0.004721167880254073), (3, 0.005016222666173034), (4, 0.012415938959232146), (5, 0.004610648680203248), (6, 0.05745755019865102), (7, 0.13893570045682588), (8, 0.0), (9, 0.03043443641849399)]\n",
            "[(0, 0.012946954286874231), (1, 0.035109046432793264), (2, 0.004721167880254073), (3, 0.005016222666173034), (4, 0.012415938959232146), (5, 0.004610648680203248), (6, 0.05745755019865102), (7, 0.13893570045682588), (8, 0.0), (9, 0.03043443641849399)]\n",
            "[(0, 0.012946954286874231), (1, 0.035109046432793264), (2, 0.004721167880254073), (3, 0.005016222666173034), (4, 0.012415938959232146), (5, 0.004610648680203248), (6, 0.05745755019865102), (7, 0.13893570045682588), (8, 0.0), (9, 0.03043443641849399)]\n",
            "[(0, 0.012946954286874231), (1, 0.035109046432793264), (2, 0.004721167880254073), (3, 0.005016222666173034), (4, 0.012415938959232146), (5, 0.004610648680203248), (6, 0.05745755019865102), (7, 0.13893570045682588), (8, 0.0), (9, 0.03043443641849399)]\n",
            "[(0, 0.012946954286874231), (1, 0.035109046432793264), (2, 0.004721167880254073), (3, 0.005016222666173034), (4, 0.012415938959232146), (5, 0.004610648680203248), (6, 0.05745755019865102), (7, 0.13893570045682588), (8, 0.0), (9, 0.03043443641849399)]\n"
          ]
        }
      ]
    },
    {
      "cell_type": "code",
      "source": [
        "len(similarity_score)"
      ],
      "metadata": {
        "colab": {
          "base_uri": "https://localhost:8080/"
        },
        "id": "8ZGi5B-uVScP",
        "outputId": "d01b4775-c14e-4306-c352-7fcc44c1ff49"
      },
      "execution_count": 56,
      "outputs": [
        {
          "output_type": "execute_result",
          "data": {
            "text/plain": [
              "1930"
            ]
          },
          "metadata": {},
          "execution_count": 56
        }
      ]
    },
    {
      "cell_type": "code",
      "source": [
        "# sorting the movies based on their similarity score by descending order (highest and lowest)\n",
        "# x represents the first value of each element (the index i.e. 0,1,2...) in similarity_score\n",
        "# x[1] represents the second value in each element (the similarity score i.e. 0.015,0.034,...) in similarity_score\n",
        "# it is being sorted by x[1] here.\n",
        "\n",
        "sorted_similar_movies = sorted(similarity_score, key = lambda x:x[1], reverse = True)\n",
        "print(sorted_similar_movies)"
      ],
      "metadata": {
        "colab": {
          "base_uri": "https://localhost:8080/"
        },
        "id": "Ua9kGAAVVgiF",
        "outputId": "b65b6e2d-7dc3-4419-8db7-f21b242354b2"
      },
      "execution_count": 57,
      "outputs": [
        {
          "output_type": "stream",
          "name": "stdout",
          "text": [
            "[(68, 1.0), (79, 0.22642561519100804), (31, 0.21250194902138048), (16, 0.17714773699679107), (26, 0.1521536430952489), (7, 0.13893570045682588), (353, 0.11537790666037616), (33, 0.11256136116686208), (46, 0.10906714477335187), (1210, 0.10558502451138016), (511, 0.10155979765267609), (954, 0.09979333208977206), (203, 0.09884038748551768), (1406, 0.09676163836717985), (174, 0.09406678980694108), (882, 0.09335819925927033), (85, 0.09190392645777257), (307, 0.09183221361188353), (64, 0.0898665860811958), (38, 0.08654339549447063), (101, 0.08640098182594488), (1282, 0.08425884156505582), (783, 0.08419194516584094), (356, 0.08097454345876658), (788, 0.08064295717633159), (205, 0.08016214438310043), (1553, 0.07940141685556665), (39, 0.07757021479328036), (1015, 0.07435716116119694), (182, 0.07405081987593261), (1654, 0.07169715413591257), (1651, 0.07151702217460196), (1864, 0.07127570933255788), (1664, 0.07119879393909671), (436, 0.0701917791860072), (421, 0.0701632766596687), (1029, 0.07007600658843274), (1311, 0.06983510836787002), (725, 0.06944073272969549), (661, 0.0693416836538543), (1128, 0.06920640041923698), (599, 0.06780973007446187), (501, 0.06681723875123866), (1451, 0.06612844683427047), (607, 0.06490973630285084), (800, 0.06439256195185222), (1274, 0.06436657309366522), (1041, 0.06314054895563526), (382, 0.0617584774699971), (840, 0.06168796088583136), (278, 0.06147904264656089), (1502, 0.06142992438193676), (1874, 0.06120828944613113), (1365, 0.06068361855712194), (91, 0.06047351078911402), (30, 0.05923365896565193), (318, 0.058922287995495204), (1821, 0.05886801586093976), (618, 0.05816448905266284), (20, 0.05800087018710684), (763, 0.05790789945295807), (641, 0.05751247582697465), (6, 0.05745755019865102), (1740, 0.05703543043730854), (129, 0.05688149355239693), (138, 0.05655362938815899), (1368, 0.05582452269158268), (574, 0.054401751223718306), (28, 0.05414175456847272), (126, 0.053765109189600944), (131, 0.053333865731039286), (953, 0.05279164650140693), (396, 0.05276422157748629), (232, 0.05227913121304253), (1670, 0.051507174608750005), (457, 0.05107141664155965), (1916, 0.050924210071551436), (1484, 0.0503729242938427), (78, 0.05018874470519773), (94, 0.04965222124772534), (720, 0.048615723679201396), (331, 0.048335043124113394), (1272, 0.0481943001043183), (1200, 0.04803571835696026), (1753, 0.04673939559659166), (122, 0.04649356249154459), (1135, 0.046365738999659595), (945, 0.045791904516403754), (95, 0.04560681600816487), (242, 0.045427244543884165), (1249, 0.0453204205184711), (1317, 0.04400692175945581), (1016, 0.04387469308874773), (940, 0.043685450186535246), (929, 0.0436122064654339), (401, 0.04353770721845557), (54, 0.04334374979401611), (1636, 0.04260703920775947), (508, 0.04258687677616274), (1703, 0.04225513490661515), (1024, 0.04212210557100011), (316, 0.04208247984940255), (1494, 0.041961361169146144), (833, 0.04191291804428638), (169, 0.04181764107455962), (1696, 0.041751621838000484), (789, 0.041433138833219085), (545, 0.041420073088008), (1899, 0.041005895071650075), (451, 0.040657604008842045), (564, 0.04038886704185224), (507, 0.04023563224497198), (1277, 0.040216034465617265), (1459, 0.04005750102370406), (1573, 0.039958642174015395), (855, 0.03994519129966627), (1865, 0.03991411168920991), (270, 0.03991310891018146), (198, 0.039869272329907154), (956, 0.039502606146903096), (361, 0.03945151290825293), (1247, 0.039288736553164394), (14, 0.038977535310762854), (1052, 0.03865098021514751), (328, 0.038518134551207596), (1782, 0.03827433428095391), (631, 0.038188691713201856), (146, 0.0381701786888153), (1715, 0.037710991480938295), (1170, 0.03759311137281519), (1180, 0.03753902320133411), (536, 0.03742353847632663), (870, 0.03729408234565824), (1710, 0.037121384586765414), (1398, 0.03707655733372589), (199, 0.03676307070444298), (1005, 0.036133354959313926), (782, 0.03595649330475836), (675, 0.03540741603810195), (1650, 0.03533179191773867), (1780, 0.03528199230526007), (1, 0.035109046432793264), (1925, 0.034804740543710404), (441, 0.03477670939878987), (163, 0.0345400058756225), (1192, 0.0344991502263975), (76, 0.03448303244361562), (1291, 0.034247574938589584), (775, 0.034179019419645566), (570, 0.03413610139858002), (1456, 0.033913971176475925), (1469, 0.033841979995527974), (185, 0.03383304203581393), (965, 0.03330994477697712), (310, 0.033167323807246324), (1233, 0.03305876453723904), (309, 0.0324465149030013), (752, 0.032371333568060004), (128, 0.03198055310884903), (635, 0.03195848863179059), (805, 0.031888093076083014), (166, 0.03180656889335378), (1542, 0.031352950168705394), (1152, 0.03134835427392267), (57, 0.031334193609359524), (201, 0.031245113945522283), (700, 0.03106790940689027), (699, 0.031013137775695684), (1445, 0.030885278751768025), (279, 0.030499691173589052), (967, 0.030461352686492155), (9, 0.03043443641849399), (1324, 0.030421694132388086), (1285, 0.030406520479565557), (241, 0.030390541814326405), (366, 0.030383018287869747), (732, 0.02997965582156855), (211, 0.029467409354362525), (1819, 0.02946568298936486), (345, 0.02923448309121091), (1354, 0.029218507271085353), (1002, 0.029172379046991357), (668, 0.02904332719640879), (493, 0.02893995982672468), (539, 0.02884944292382906), (1086, 0.028823488546268962), (1720, 0.02881818003737293), (562, 0.028810421815515335), (271, 0.028780551611439928), (1880, 0.028753777953124327), (593, 0.02872311306814169), (193, 0.028707348601237512), (35, 0.02870436737637906), (1569, 0.028700534462502075), (83, 0.02865170861714083), (1604, 0.02852805075878283), (977, 0.028481421430561173), (797, 0.028418255324914175), (1872, 0.028359622948584896), (601, 0.028331443183768335), (459, 0.02831420308366257), (1687, 0.028267629864706656), (768, 0.028236176785996804), (127, 0.028088151373459026), (1171, 0.02801573477812774), (1083, 0.02790944807539082), (1802, 0.027898693164709876), (1480, 0.02783008784833655), (1390, 0.02782535140071401), (222, 0.02778494213988518), (82, 0.027751459433411563), (1852, 0.02766901837105987), (158, 0.027483254006667943), (1332, 0.027422213694565573), (976, 0.027382780565117237), (701, 0.02733697300953716), (61, 0.027285513642968426), (726, 0.027243210777625714), (850, 0.02721951815556696), (972, 0.027168244909522018), (108, 0.02711464720402131), (70, 0.02707945720543141), (1683, 0.027071669392292424), (480, 0.026953727404996724), (257, 0.026922802754909263), (1034, 0.026826951897391205), (464, 0.026821760028107936), (911, 0.026815626174047213), (402, 0.026804670393085064), (755, 0.026783099893638203), (1652, 0.026776554646354686), (43, 0.026759001935477682), (1319, 0.026712804378618095), (1633, 0.026680514642907875), (476, 0.026679490785053418), (260, 0.026558893513198796), (1358, 0.02652981565115414), (36, 0.026518877750126336), (838, 0.02638645722790422), (990, 0.02634978727220864), (1232, 0.026335817304218564), (654, 0.026324300777665163), (1294, 0.026285979802878924), (1303, 0.026090611183185133), (974, 0.026030474784216957), (380, 0.02588843734841775), (1110, 0.025865558851339756), (376, 0.02582671648604969), (212, 0.025797353727700208), (845, 0.025771977123978905), (96, 0.025737834501291624), (1757, 0.02572226256745665), (1617, 0.02571405853886079), (1465, 0.025453284218828733), (1055, 0.02541538457750664), (1396, 0.025409231466512788), (149, 0.025288760387676874), (1201, 0.025189273113952443), (228, 0.025179550366759756), (1387, 0.025166580057690482), (600, 0.02509288053984582), (446, 0.02502509962585988), (1625, 0.02493560552352992), (45, 0.024836514771858262), (780, 0.024747973060999778), (275, 0.024585449708638463), (1440, 0.024571954177218965), (238, 0.024530472177534266), (184, 0.02445797904269615), (581, 0.02445048003816397), (254, 0.024445612056468873), (1165, 0.024393527377241733), (1335, 0.024344889482482326), (1589, 0.024266151834546404), (1506, 0.024206783827584306), (1271, 0.024162819647294775), (32, 0.024159704512997603), (1097, 0.0240462854065323), (1001, 0.023984636908340785), (626, 0.023888073224727233), (111, 0.023807432692155982), (1383, 0.023732408259869813), (52, 0.02371843622955802), (542, 0.023622649975004732), (1177, 0.02359056576954101), (900, 0.02356887682659769), (1044, 0.023550588773285946), (1488, 0.023507096289205533), (1534, 0.023477779340578483), (1299, 0.02343766689848958), (1377, 0.023401275553170606), (1535, 0.023370662436240593), (51, 0.023369597754547593), (414, 0.023337081188126257), (1213, 0.023332396701772964), (466, 0.023254044968174913), (908, 0.02322773357969714), (1079, 0.023190759933971957), (1827, 0.02310488547636664), (902, 0.023084337725945356), (665, 0.023016079210648552), (1750, 0.022933909855670207), (1495, 0.02289350093402291), (200, 0.02281918169701532), (1345, 0.022780910214815927), (442, 0.022751860458392795), (718, 0.022739260948713133), (931, 0.022658368334509123), (1336, 0.022609183755119906), (770, 0.022597107884472094), (313, 0.022528925283116428), (1184, 0.022488790756341456), (1468, 0.022458748192875418), (1058, 0.022381925646179024), (632, 0.022372780366583), (740, 0.022359142026214068), (219, 0.022323395904444425), (793, 0.02229922064570593), (575, 0.02223848848306039), (1422, 0.0222063148060216), (229, 0.02212149782171642), (778, 0.021932847131121508), (1547, 0.021919174273729795), (1412, 0.021899654241239554), (1583, 0.021801377031175722), (249, 0.02179436873861305), (1286, 0.021787668744044936), (107, 0.021580215253925162), (1794, 0.021545056018146463), (1850, 0.021541085202512314), (1379, 0.0215277675834781), (371, 0.021519674108460705), (239, 0.021514572244593053), (1439, 0.021497401404445067), (1765, 0.02148933942888407), (1786, 0.021420623742665963), (1496, 0.021411178391064718), (1517, 0.021264667886629864), (904, 0.021258055722852397), (1014, 0.02125320464570464), (1473, 0.02123720255878813), (577, 0.021232123353529253), (1352, 0.021220785838519732), (939, 0.02116707830703765), (490, 0.021144687124324955), (426, 0.02113473997790137), (1275, 0.021055215851720266), (1646, 0.020983694890986712), (470, 0.020859701005219677), (716, 0.02085658573668373), (504, 0.020771484308168386), (1367, 0.020759179903380914), (1344, 0.020750711482908222), (333, 0.02073992590249018), (777, 0.02065610372717074), (454, 0.02056457937263078), (1028, 0.0204861970287675), (1742, 0.020450137232355562), (286, 0.020297594888090353), (670, 0.020231123420986038), (546, 0.020229269356839295), (1914, 0.020219152724365377), (1919, 0.020203918343707307), (578, 0.020190401572882537), (1436, 0.020126753728837793), (360, 0.020110134681742258), (324, 0.020053982124468177), (432, 0.02001053907542169), (1244, 0.020003544629161287), (1588, 0.01998871761946002), (1119, 0.019974602639176175), (220, 0.01995756348542722), (1419, 0.01993700039334265), (1725, 0.019809696897030306), (1472, 0.019736091959570493), (110, 0.019704696825925898), (1157, 0.019671594796476437), (365, 0.019617644180099213), (487, 0.019597781378463134), (443, 0.019524962811881964), (1600, 0.01949653106609026), (1131, 0.019436432098584616), (1575, 0.019431422292061903), (771, 0.0194308414094761), (1771, 0.019423914423680445), (263, 0.019399698167379673), (1808, 0.019378351490320814), (1191, 0.01933993342190303), (1606, 0.019223696552268577), (754, 0.019221152127765814), (1222, 0.019129086583921297), (471, 0.019090622022596086), (988, 0.01898769856202227), (862, 0.018736387880072092), (1111, 0.018620452031228748), (761, 0.018521310740268748), (372, 0.018470287989036105), (1341, 0.018438410370675472), (1467, 0.018304991408936558), (615, 0.018297070384840103), (503, 0.01811185146005022), (525, 0.018092531190855386), (735, 0.017976520616776036), (1637, 0.0179737036933703), (1518, 0.01782673706610246), (389, 0.017709744423585336), (895, 0.017622350372570986), (878, 0.017523672743137497), (1774, 0.01751751778103248), (646, 0.017437210667878067), (1237, 0.017349405217670928), (502, 0.017307430602303164), (738, 0.01709271098067567), (170, 0.017047501218933794), (1525, 0.016874473261021976), (706, 0.01685060329656005), (1912, 0.01678145716253029), (292, 0.016773306791068972), (612, 0.016647563786556973), (729, 0.016577607959709664), (1847, 0.016369375052453814), (1529, 0.01634920148010153), (591, 0.01633435388597996), (1785, 0.016261016359264267), (1305, 0.01622476809713537), (674, 0.016199861769145774), (898, 0.01613384743624544), (284, 0.016084957168066228), (688, 0.016025702039474087), (892, 0.01575324682766594), (1684, 0.01563399616595109), (811, 0.015583876914111732), (172, 0.015533554159082013), (1798, 0.015519626025014622), (1090, 0.01550411988528909), (1337, 0.015361231665831802), (377, 0.015314406106531888), (1845, 0.015203505709095113), (1738, 0.015138967950152522), (560, 0.015061630697345646), (10, 0.015039722270768302), (363, 0.0150281923891596), (733, 0.015005435481095925), (1105, 0.015003234664706506), (1734, 0.014964780648171864), (1057, 0.014915113100897074), (652, 0.014793318715885843), (1807, 0.01474315600728722), (703, 0.014624793654855963), (165, 0.014609468930240168), (1828, 0.014567654543774336), (1728, 0.014563771128067282), (1657, 0.014548434042944172), (1369, 0.014476855224285256), (56, 0.0144455076461019), (362, 0.014379850497413742), (440, 0.014377343828957345), (1243, 0.014269047987633081), (415, 0.014200753062969973), (225, 0.014183403823745805), (47, 0.014168136477589528), (1399, 0.01403201083725315), (1551, 0.01395749659497628), (322, 0.013954782626569986), (1338, 0.013939382854689101), (319, 0.013853426552926958), (1841, 0.013673304921460771), (183, 0.013670568074348164), (102, 0.013629980629148126), (1607, 0.013516219442827727), (311, 0.013479749959396693), (196, 0.013439244556283963), (609, 0.01341161652946018), (657, 0.013390259529202616), (74, 0.01337487251479477), (1826, 0.013297232281101568), (922, 0.013206120585826972), (335, 0.013190613961622213), (168, 0.013040310180283905), (266, 0.0130246168629729), (1251, 0.0130080410033203), (1070, 0.012967488378149174), (0, 0.012946954286874231), (1155, 0.01289974838209319), (1230, 0.012875089648280543), (72, 0.012862049700382931), (851, 0.012840440255806206), (1067, 0.012758594968695441), (920, 0.01274338979158711), (150, 0.012741465470286002), (1663, 0.012730712466696959), (510, 0.012729376914217886), (1490, 0.012719820332453599), (634, 0.012709648040163987), (1395, 0.012624608000670388), (412, 0.012604306872357515), (813, 0.0125728733477967), (59, 0.012568317149004433), (125, 0.012539689189484646), (93, 0.01249876443713437), (495, 0.012476217421433055), (224, 0.012468284590071745), (1093, 0.012466298335598282), (18, 0.012461257031615146), (582, 0.012425155299214938), (505, 0.012424763131859504), (4, 0.012415938959232146), (658, 0.012378303491384458), (123, 0.01237304472616931), (1482, 0.012305647528176221), (41, 0.01230246851157818), (1558, 0.012298594751526113), (334, 0.012199711218990234), (1491, 0.012198935903513276), (1270, 0.01219384500434549), (1568, 0.012148970583851164), (342, 0.012048464929153214), (207, 0.011962402860823892), (854, 0.011941143084605076), (27, 0.011813409641987526), (223, 0.01178064202551822), (799, 0.011775644587903103), (449, 0.011746884294423058), (116, 0.011721906816737737), (728, 0.011639562724551028), (483, 0.011403001425472816), (400, 0.011367794545130382), (1428, 0.011210981701022495), (97, 0.011040335674328477), (230, 0.011024493610898498), (233, 0.011010585520046027), (587, 0.010886793839848979), (300, 0.010698975533401572), (1531, 0.010661496637126105), (1735, 0.01061700019022582), (541, 0.01055392967268818), (994, 0.010400460036411818), (1202, 0.010380173653464116), (1296, 0.010378045138761846), (1608, 0.010374416592067715), (1611, 0.009717478201344741), (1153, 0.00962876866493113), (1709, 0.00962355897040697), (1259, 0.009412900441748343), (419, 0.009387944575498425), (1008, 0.009324394075697583), (164, 0.009248250783381725), (301, 0.009048409133705245), (461, 0.009012084801235838), (373, 0.008987516071523666), (358, 0.008977257061152521), (1762, 0.008798568620276425), (67, 0.008797160440969072), (960, 0.008767799614712175), (306, 0.00868521295544993), (413, 0.008600842850441808), (1902, 0.008595531028038658), (1068, 0.008577808006897326), (305, 0.008497112232723925), (1053, 0.008420346666592969), (87, 0.008407066026666798), (256, 0.008320087532565556), (1238, 0.008258509435242879), (473, 0.008241060329333649), (422, 0.008239655384347904), (420, 0.008214431056155403), (450, 0.008166500130794742), (410, 0.008127409762128735), (1318, 0.00807424392933382), (1643, 0.008040637382663732), (1198, 0.00803612974679004), (814, 0.008033777274350014), (1326, 0.007958537949654764), (1554, 0.007899666990310757), (1415, 0.007820027144182848), (375, 0.0077717585910481385), (549, 0.007510108669046616), (1217, 0.007341724895545376), (1642, 0.0073312040183909025), (1085, 0.007190420500184608), (723, 0.007105707475770052), (999, 0.006639456487555241), (673, 0.006386037471260563), (1253, 0.006232866288665673), (1099, 0.006108644099421797), (1267, 0.00610188558713284), (1288, 0.005818489150250003), (1597, 0.005691152203630819), (381, 0.005675050610469355), (1667, 0.005648976166177527), (71, 0.005584186683449492), (540, 0.005542051631207369), (1503, 0.005521784425446582), (1357, 0.005485287560183109), (660, 0.005473299411454532), (1183, 0.005403693547898527), (58, 0.005322854763720744), (715, 0.005260543267363469), (774, 0.005233048344433938), (1278, 0.005221178451691671), (678, 0.005220369116789521), (530, 0.005211193963486747), (1273, 0.005209167666277592), (518, 0.005181542995683916), (350, 0.005173993191462124), (1727, 0.005170746199884128), (218, 0.005162776554239114), (602, 0.005144320747331039), (866, 0.005110613171786541), (1479, 0.005105124630803792), (786, 0.0050759005068371325), (1675, 0.005068130388547479), (1417, 0.0050673211115610794), (985, 0.005064533795997215), (1114, 0.005062308447055028), (534, 0.005058515387329616), (773, 0.0050415906915287235), (467, 0.005016641358132982), (3, 0.005016222666173034), (1289, 0.004992060323210811), (339, 0.004982148404368473), (1256, 0.004978651966090874), (213, 0.004958805612390237), (1733, 0.004947058118736994), (573, 0.004944241511352422), (48, 0.004896381214954612), (834, 0.00489522655590231), (261, 0.0048848121859065554), (1860, 0.004884262579022869), (425, 0.004881609804807301), (433, 0.004880968789723772), (437, 0.004877003678313016), (303, 0.004872240170946147), (1894, 0.004855979829362002), (512, 0.0048484571752582355), (1897, 0.004847608973640556), (320, 0.004844435815598963), (248, 0.004835491409825953), (1777, 0.004825233663750271), (453, 0.00482201316982499), (290, 0.004819616405228273), (215, 0.0048036325500131006), (737, 0.004800333100931519), (952, 0.004785958872804068), (1342, 0.004782200719378461), (1448, 0.004781962945869406), (596, 0.004763058237507617), (167, 0.004762886054760663), (1920, 0.0047594723785068), (104, 0.004755888752882778), (29, 0.00475412270945442), (597, 0.00474611533487241), (180, 0.004739494191541365), (1546, 0.0047256768372658), (428, 0.0047245406743821605), (2, 0.004721167880254073), (1868, 0.004720723193160739), (274, 0.004719040632302867), (984, 0.004717194709540669), (747, 0.004708909211537079), (1628, 0.004701005019050158), (188, 0.0046999448592824275), (823, 0.00469433535436877), (299, 0.004693134023558305), (643, 0.004689266997006672), (762, 0.004687906515271166), (1284, 0.004678804208076306), (1269, 0.004671007981282826), (65, 0.004670904796468926), (828, 0.004669416816801622), (1514, 0.004665387382875069), (807, 0.00466165195313795), (119, 0.004655080731601426), (1302, 0.004649721902098934), (804, 0.004649600129038578), (1836, 0.00464814939826379), (523, 0.004642008904513999), (622, 0.004640925409982253), (547, 0.004640198056266425), (784, 0.00463553100917093), (731, 0.004634057747594463), (1320, 0.004632113239285166), (252, 0.004631888637981401), (296, 0.004631109667920683), (702, 0.004630967245910298), (767, 0.004630656702554919), (1139, 0.004628794959895505), (1144, 0.004628168098007415), (50, 0.004621986675745762), (1035, 0.004619892531958556), (644, 0.004619335449574173), (818, 0.004611665420526966), (655, 0.004611308270561412), (1118, 0.00461128973003931), (5, 0.004610648680203248), (863, 0.0046048965384475745), (148, 0.004599879901030469), (1918, 0.004598073732814967), (982, 0.0045963229858960635), (1012, 0.004596235140799317), (919, 0.004594196239200281), (1321, 0.0045854307063650564), (1254, 0.0045847927113970895), (394, 0.0045808613543508086), (386, 0.0045794963418088926), (645, 0.004579054255782254), (140, 0.0045725546142846435), (1425, 0.0045695865955705725), (209, 0.004568139786097535), (685, 0.004567043188460561), (370, 0.004560539594218322), (1124, 0.004559419865111505), (1073, 0.004555804378227924), (62, 0.004540334743078258), (979, 0.0045395361933900855), (1844, 0.004539192994539602), (355, 0.004538935826996127), (993, 0.004536361033478122), (653, 0.004533462922905489), (103, 0.004531612557649922), (659, 0.004530338369771833), (134, 0.0045297696010758995), (1133, 0.004527705686801778), (687, 0.0045220451207407305), (1669, 0.004517607300980985), (1910, 0.004514925903976242), (1610, 0.004511183875759899), (1380, 0.004508548097694862), (204, 0.004503740950490474), (1434, 0.0045027097548541485), (1178, 0.004502553729855006), (112, 0.00448804390172217), (594, 0.004481437874591469), (1195, 0.0044810101301218114), (1500, 0.004478654571771674), (1245, 0.004476887705041802), (240, 0.004475393847119828), (1510, 0.00447267379681946), (664, 0.004469435335032893), (236, 0.0044619823011085875), (873, 0.004461321423252923), (478, 0.004461177778607974), (1783, 0.0044595011331344725), (1702, 0.004458512423648182), (1853, 0.0044541924753533245), (472, 0.004452441974746179), (1858, 0.004450597606472469), (553, 0.004449070463663231), (1447, 0.004446060878786559), (992, 0.004445010355268738), (1457, 0.004442811622480559), (589, 0.004437509800955165), (277, 0.004434295573273986), (1615, 0.004430650305263089), (888, 0.004430134575385046), (160, 0.0044258383837550595), (392, 0.0044229061817084225), (17, 0.004422845401014419), (537, 0.004420556073420674), (1158, 0.004418281923488888), (500, 0.004411786077138046), (1586, 0.004405968388182179), (210, 0.0044038231687689505), (753, 0.004399219764632941), (151, 0.004397262329644814), (88, 0.004396804864391684), (1234, 0.004395728752195835), (387, 0.004392803113623117), (1486, 0.004391090199382873), (1432, 0.0043899912167122326), (243, 0.004387547450134673), (227, 0.0043875062381008014), (808, 0.004386782909173466), (893, 0.004379439815217396), (1076, 0.004377719836750935), (152, 0.004376231789865639), (304, 0.004369754748960046), (544, 0.004367781485790085), (1515, 0.004367550146664434), (724, 0.00436710809298906), (408, 0.0043636821881745), (273, 0.004360844073560446), (844, 0.00435795796078851), (468, 0.0043574768261148535), (1470, 0.004354302498256089), (13, 0.0043524276146349496), (1592, 0.004351261696270934), (237, 0.004351204471240614), (590, 0.004348160792045374), (153, 0.004344552180349303), (1279, 0.004343839627558138), (455, 0.004328052671233963), (568, 0.004324637859074936), (1290, 0.004324330384488255), (1027, 0.004323551625526751), (99, 0.004318365896044357), (744, 0.004318080237362325), (604, 0.004316152960192971), (610, 0.004306129212596777), (1239, 0.004303611981830787), (121, 0.004302684266751157), (613, 0.004299503865494609), (1815, 0.004299331079950337), (1339, 0.004295821563666212), (1137, 0.004293118386344898), (1635, 0.004292728720103511), (951, 0.004292419730620512), (486, 0.004289045716744927), (836, 0.004288258552043461), (580, 0.004284128412155834), (1790, 0.004280857983511898), (864, 0.004279317753430148), (741, 0.004267354200222397), (933, 0.004265555560946639), (1101, 0.004264234271474074), (187, 0.004259854626240174), (1266, 0.004259534048350077), (1000, 0.004255495661151428), (1100, 0.004253561188396006), (535, 0.004241598307409971), (295, 0.004240438468970955), (1443, 0.004239841234681462), (821, 0.004238546572925779), (1096, 0.004238353491760442), (694, 0.004234862219872019), (1188, 0.004232548142090149), (1450, 0.004228057488751308), (677, 0.004227738172070514), (1437, 0.004226836548535109), (1363, 0.00422166329850136), (595, 0.0042206338630852444), (1596, 0.004214411712549297), (621, 0.004208903129377918), (291, 0.0042021475788293515), (640, 0.00419937526249442), (739, 0.004196868155800666), (491, 0.0041925741015043285), (930, 0.0041925458819958945), (1908, 0.004189127366425787), (571, 0.004188840473360954), (383, 0.004178038315931862), (217, 0.004177773190445316), (1140, 0.004177173354168447), (746, 0.0041710017444984366), (1825, 0.004166662692207605), (676, 0.004162702103362181), (1334, 0.004162217057236727), (1854, 0.004161263794275863), (1310, 0.00415818436509305), (1507, 0.004156843872690583), (1671, 0.00415618231923221), (1661, 0.004156057350025582), (1343, 0.0041544794542654), (1672, 0.0041486944408182245), (973, 0.004148275363846749), (1851, 0.004144350535638953), (856, 0.00414248139709312), (531, 0.004131957585024334), (745, 0.004130940394419107), (963, 0.004128219220449075), (1713, 0.004126533318456569), (1347, 0.00412418834566197), (955, 0.004123907383154215), (259, 0.004115237547495981), (11, 0.004108623216834124), (1049, 0.00410829367614599), (1431, 0.004107977696202943), (611, 0.004101086322242194), (969, 0.004100468418450989), (147, 0.004097730322331371), (880, 0.004097066166704184), (308, 0.004096612921680854), (1084, 0.004090574790883942), (285, 0.004090384744848172), (1103, 0.004087838147800111), (711, 0.004081194618119227), (695, 0.004076757281571618), (1645, 0.0040753579774609385), (1146, 0.004065093493238593), (914, 0.004060310604446509), (529, 0.004057036241052114), (312, 0.004048155408806009), (139, 0.004048088567495721), (1653, 0.004047274056228367), (1361, 0.004041892077005567), (989, 0.004034912965805963), (186, 0.00403381730988234), (403, 0.004033711888458682), (1686, 0.004028985002548347), (624, 0.004027489714912918), (556, 0.004026045732918198), (21, 0.004024625143901986), (1830, 0.0040188253179975365), (1136, 0.004017703881648798), (683, 0.0040137340371787416), (1106, 0.004008477497241347), (1577, 0.004006532070054176), (1438, 0.004005393231795458), (1743, 0.004003412827790438), (1513, 0.003997922333851625), (469, 0.00399466929072191), (1463, 0.0039804194028953375), (19, 0.003978077992016438), (1538, 0.0039766745437443945), (1892, 0.0039765087193004665), (1616, 0.003971839893940841), (830, 0.003967403437950428), (1095, 0.003961359745169152), (1281, 0.003960144550043009), (1199, 0.003955213002712612), (859, 0.00394911859259663), (315, 0.003947264105599214), (959, 0.003931550068023974), (1175, 0.003921592672254641), (253, 0.003917933883434372), (691, 0.003917671261520897), (1721, 0.003917600836453652), (245, 0.003917436784175438), (81, 0.003905265471814653), (1626, 0.003900911838403264), (680, 0.003898141711226565), (369, 0.003891102545751264), (736, 0.0038892814764757743), (950, 0.003886384203374367), (282, 0.0038726252661086054), (1138, 0.0038525456980811343), (894, 0.0038424325518374614), (1795, 0.003839370773894041), (513, 0.0038377379857326443), (543, 0.0038376266199384164), (1174, 0.003836924962463699), (1003, 0.003836356753759119), (84, 0.003834722652407845), (267, 0.00383458233089373), (1907, 0.0038304231624148506), (1193, 0.0038205559099712904), (787, 0.0038163955901448646), (941, 0.0037858241221105466), (831, 0.003781957148926224), (244, 0.0037753633158502738), (332, 0.0037551691991462343), (344, 0.003727961385668514), (475, 0.0037073751665418443), (156, 0.0036890697887202975), (629, 0.003685275643373066), (405, 0.0036763720795505357), (1109, 0.003674473765310243), (1877, 0.0036131683248557473), (1082, 0.0036127521553523845), (794, 0.003596724753821144), (340, 0.00357197639112906), (579, 0.003568571399688778), (1077, 0.0035496202473986665), (1064, 0.0035193130944786415), (1404, 0.0034771814992668746), (1837, 0.0034627695591170032), (411, 0.0034359351917394045), (1817, 0.003394614566722684), (627, 0.00334578270815572), (528, 0.003340895535854353), (932, 0.003314619146210787), (1018, 0.003268706685218448), (337, 0.0032207175856223983), (1304, 0.0031341039871523564), (8, 0.0), (12, 0.0), (15, 0.0), (22, 0.0), (23, 0.0), (24, 0.0), (25, 0.0), (34, 0.0), (37, 0.0), (40, 0.0), (42, 0.0), (44, 0.0), (49, 0.0), (53, 0.0), (55, 0.0), (60, 0.0), (63, 0.0), (66, 0.0), (69, 0.0), (73, 0.0), (75, 0.0), (77, 0.0), (80, 0.0), (86, 0.0), (89, 0.0), (90, 0.0), (92, 0.0), (98, 0.0), (100, 0.0), (105, 0.0), (106, 0.0), (109, 0.0), (113, 0.0), (114, 0.0), (115, 0.0), (117, 0.0), (118, 0.0), (120, 0.0), (124, 0.0), (130, 0.0), (132, 0.0), (133, 0.0), (135, 0.0), (136, 0.0), (137, 0.0), (141, 0.0), (142, 0.0), (143, 0.0), (144, 0.0), (145, 0.0), (154, 0.0), (155, 0.0), (157, 0.0), (159, 0.0), (161, 0.0), (162, 0.0), (171, 0.0), (173, 0.0), (175, 0.0), (176, 0.0), (177, 0.0), (178, 0.0), (179, 0.0), (181, 0.0), (189, 0.0), (190, 0.0), (191, 0.0), (192, 0.0), (194, 0.0), (195, 0.0), (197, 0.0), (202, 0.0), (206, 0.0), (208, 0.0), (214, 0.0), (216, 0.0), (221, 0.0), (226, 0.0), (231, 0.0), (234, 0.0), (235, 0.0), (246, 0.0), (247, 0.0), (250, 0.0), (251, 0.0), (255, 0.0), (258, 0.0), (262, 0.0), (264, 0.0), (265, 0.0), (268, 0.0), (269, 0.0), (272, 0.0), (276, 0.0), (280, 0.0), (281, 0.0), (283, 0.0), (287, 0.0), (288, 0.0), (289, 0.0), (293, 0.0), (294, 0.0), (297, 0.0), (298, 0.0), (302, 0.0), (314, 0.0), (317, 0.0), (321, 0.0), (323, 0.0), (325, 0.0), (326, 0.0), (327, 0.0), (329, 0.0), (330, 0.0), (336, 0.0), (338, 0.0), (341, 0.0), (343, 0.0), (346, 0.0), (347, 0.0), (348, 0.0), (349, 0.0), (351, 0.0), (352, 0.0), (354, 0.0), (357, 0.0), (359, 0.0), (364, 0.0), (367, 0.0), (368, 0.0), (374, 0.0), (378, 0.0), (379, 0.0), (384, 0.0), (385, 0.0), (388, 0.0), (390, 0.0), (391, 0.0), (393, 0.0), (395, 0.0), (397, 0.0), (398, 0.0), (399, 0.0), (404, 0.0), (406, 0.0), (407, 0.0), (409, 0.0), (416, 0.0), (417, 0.0), (418, 0.0), (423, 0.0), (424, 0.0), (427, 0.0), (429, 0.0), (430, 0.0), (431, 0.0), (434, 0.0), (435, 0.0), (438, 0.0), (439, 0.0), (444, 0.0), (445, 0.0), (447, 0.0), (448, 0.0), (452, 0.0), (456, 0.0), (458, 0.0), (460, 0.0), (462, 0.0), (463, 0.0), (465, 0.0), (474, 0.0), (477, 0.0), (479, 0.0), (481, 0.0), (482, 0.0), (484, 0.0), (485, 0.0), (488, 0.0), (489, 0.0), (492, 0.0), (494, 0.0), (496, 0.0), (497, 0.0), (498, 0.0), (499, 0.0), (506, 0.0), (509, 0.0), (514, 0.0), (515, 0.0), (516, 0.0), (517, 0.0), (519, 0.0), (520, 0.0), (521, 0.0), (522, 0.0), (524, 0.0), (526, 0.0), (527, 0.0), (532, 0.0), (533, 0.0), (538, 0.0), (548, 0.0), (550, 0.0), (551, 0.0), (552, 0.0), (554, 0.0), (555, 0.0), (557, 0.0), (558, 0.0), (559, 0.0), (561, 0.0), (563, 0.0), (565, 0.0), (566, 0.0), (567, 0.0), (569, 0.0), (572, 0.0), (576, 0.0), (583, 0.0), (584, 0.0), (585, 0.0), (586, 0.0), (588, 0.0), (592, 0.0), (598, 0.0), (603, 0.0), (605, 0.0), (606, 0.0), (608, 0.0), (614, 0.0), (616, 0.0), (617, 0.0), (619, 0.0), (620, 0.0), (623, 0.0), (625, 0.0), (628, 0.0), (630, 0.0), (633, 0.0), (636, 0.0), (637, 0.0), (638, 0.0), (639, 0.0), (642, 0.0), (647, 0.0), (648, 0.0), (649, 0.0), (650, 0.0), (651, 0.0), (656, 0.0), (662, 0.0), (663, 0.0), (666, 0.0), (667, 0.0), (669, 0.0), (671, 0.0), (672, 0.0), (679, 0.0), (681, 0.0), (682, 0.0), (684, 0.0), (686, 0.0), (689, 0.0), (690, 0.0), (692, 0.0), (693, 0.0), (696, 0.0), (697, 0.0), (698, 0.0), (704, 0.0), (705, 0.0), (707, 0.0), (708, 0.0), (709, 0.0), (710, 0.0), (712, 0.0), (713, 0.0), (714, 0.0), (717, 0.0), (719, 0.0), (721, 0.0), (722, 0.0), (727, 0.0), (730, 0.0), (734, 0.0), (742, 0.0), (743, 0.0), (748, 0.0), (749, 0.0), (750, 0.0), (751, 0.0), (756, 0.0), (757, 0.0), (758, 0.0), (759, 0.0), (760, 0.0), (764, 0.0), (765, 0.0), (766, 0.0), (769, 0.0), (772, 0.0), (776, 0.0), (779, 0.0), (781, 0.0), (785, 0.0), (790, 0.0), (791, 0.0), (792, 0.0), (795, 0.0), (796, 0.0), (798, 0.0), (801, 0.0), (802, 0.0), (803, 0.0), (806, 0.0), (809, 0.0), (810, 0.0), (812, 0.0), (815, 0.0), (816, 0.0), (817, 0.0), (819, 0.0), (820, 0.0), (822, 0.0), (824, 0.0), (825, 0.0), (826, 0.0), (827, 0.0), (829, 0.0), (832, 0.0), (835, 0.0), (837, 0.0), (839, 0.0), (841, 0.0), (842, 0.0), (843, 0.0), (846, 0.0), (847, 0.0), (848, 0.0), (849, 0.0), (852, 0.0), (853, 0.0), (857, 0.0), (858, 0.0), (860, 0.0), (861, 0.0), (865, 0.0), (867, 0.0), (868, 0.0), (869, 0.0), (871, 0.0), (872, 0.0), (874, 0.0), (875, 0.0), (876, 0.0), (877, 0.0), (879, 0.0), (881, 0.0), (883, 0.0), (884, 0.0), (885, 0.0), (886, 0.0), (887, 0.0), (889, 0.0), (890, 0.0), (891, 0.0), (896, 0.0), (897, 0.0), (899, 0.0), (901, 0.0), (903, 0.0), (905, 0.0), (906, 0.0), (907, 0.0), (909, 0.0), (910, 0.0), (912, 0.0), (913, 0.0), (915, 0.0), (916, 0.0), (917, 0.0), (918, 0.0), (921, 0.0), (923, 0.0), (924, 0.0), (925, 0.0), (926, 0.0), (927, 0.0), (928, 0.0), (934, 0.0), (935, 0.0), (936, 0.0), (937, 0.0), (938, 0.0), (942, 0.0), (943, 0.0), (944, 0.0), (946, 0.0), (947, 0.0), (948, 0.0), (949, 0.0), (957, 0.0), (958, 0.0), (961, 0.0), (962, 0.0), (964, 0.0), (966, 0.0), (968, 0.0), (970, 0.0), (971, 0.0), (975, 0.0), (978, 0.0), (980, 0.0), (981, 0.0), (983, 0.0), (986, 0.0), (987, 0.0), (991, 0.0), (995, 0.0), (996, 0.0), (997, 0.0), (998, 0.0), (1004, 0.0), (1006, 0.0), (1007, 0.0), (1009, 0.0), (1010, 0.0), (1011, 0.0), (1013, 0.0), (1017, 0.0), (1019, 0.0), (1020, 0.0), (1021, 0.0), (1022, 0.0), (1023, 0.0), (1025, 0.0), (1026, 0.0), (1030, 0.0), (1031, 0.0), (1032, 0.0), (1033, 0.0), (1036, 0.0), (1037, 0.0), (1038, 0.0), (1039, 0.0), (1040, 0.0), (1042, 0.0), (1043, 0.0), (1045, 0.0), (1046, 0.0), (1047, 0.0), (1048, 0.0), (1050, 0.0), (1051, 0.0), (1054, 0.0), (1056, 0.0), (1059, 0.0), (1060, 0.0), (1061, 0.0), (1062, 0.0), (1063, 0.0), (1065, 0.0), (1066, 0.0), (1069, 0.0), (1071, 0.0), (1072, 0.0), (1074, 0.0), (1075, 0.0), (1078, 0.0), (1080, 0.0), (1081, 0.0), (1087, 0.0), (1088, 0.0), (1089, 0.0), (1091, 0.0), (1092, 0.0), (1094, 0.0), (1098, 0.0), (1102, 0.0), (1104, 0.0), (1107, 0.0), (1108, 0.0), (1112, 0.0), (1113, 0.0), (1115, 0.0), (1116, 0.0), (1117, 0.0), (1120, 0.0), (1121, 0.0), (1122, 0.0), (1123, 0.0), (1125, 0.0), (1126, 0.0), (1127, 0.0), (1129, 0.0), (1130, 0.0), (1132, 0.0), (1134, 0.0), (1141, 0.0), (1142, 0.0), (1143, 0.0), (1145, 0.0), (1147, 0.0), (1148, 0.0), (1149, 0.0), (1150, 0.0), (1151, 0.0), (1154, 0.0), (1156, 0.0), (1159, 0.0), (1160, 0.0), (1161, 0.0), (1162, 0.0), (1163, 0.0), (1164, 0.0), (1166, 0.0), (1167, 0.0), (1168, 0.0), (1169, 0.0), (1172, 0.0), (1173, 0.0), (1176, 0.0), (1179, 0.0), (1181, 0.0), (1182, 0.0), (1185, 0.0), (1186, 0.0), (1187, 0.0), (1189, 0.0), (1190, 0.0), (1194, 0.0), (1196, 0.0), (1197, 0.0), (1203, 0.0), (1204, 0.0), (1205, 0.0), (1206, 0.0), (1207, 0.0), (1208, 0.0), (1209, 0.0), (1211, 0.0), (1212, 0.0), (1214, 0.0), (1215, 0.0), (1216, 0.0), (1218, 0.0), (1219, 0.0), (1220, 0.0), (1221, 0.0), (1223, 0.0), (1224, 0.0), (1225, 0.0), (1226, 0.0), (1227, 0.0), (1228, 0.0), (1229, 0.0), (1231, 0.0), (1235, 0.0), (1236, 0.0), (1240, 0.0), (1241, 0.0), (1242, 0.0), (1246, 0.0), (1248, 0.0), (1250, 0.0), (1252, 0.0), (1255, 0.0), (1257, 0.0), (1258, 0.0), (1260, 0.0), (1261, 0.0), (1262, 0.0), (1263, 0.0), (1264, 0.0), (1265, 0.0), (1268, 0.0), (1276, 0.0), (1280, 0.0), (1283, 0.0), (1287, 0.0), (1292, 0.0), (1293, 0.0), (1295, 0.0), (1297, 0.0), (1298, 0.0), (1300, 0.0), (1301, 0.0), (1306, 0.0), (1307, 0.0), (1308, 0.0), (1309, 0.0), (1312, 0.0), (1313, 0.0), (1314, 0.0), (1315, 0.0), (1316, 0.0), (1322, 0.0), (1323, 0.0), (1325, 0.0), (1327, 0.0), (1328, 0.0), (1329, 0.0), (1330, 0.0), (1331, 0.0), (1333, 0.0), (1340, 0.0), (1346, 0.0), (1348, 0.0), (1349, 0.0), (1350, 0.0), (1351, 0.0), (1353, 0.0), (1355, 0.0), (1356, 0.0), (1359, 0.0), (1360, 0.0), (1362, 0.0), (1364, 0.0), (1366, 0.0), (1370, 0.0), (1371, 0.0), (1372, 0.0), (1373, 0.0), (1374, 0.0), (1375, 0.0), (1376, 0.0), (1378, 0.0), (1381, 0.0), (1382, 0.0), (1384, 0.0), (1385, 0.0), (1386, 0.0), (1388, 0.0), (1389, 0.0), (1391, 0.0), (1392, 0.0), (1393, 0.0), (1394, 0.0), (1397, 0.0), (1400, 0.0), (1401, 0.0), (1402, 0.0), (1403, 0.0), (1405, 0.0), (1407, 0.0), (1408, 0.0), (1409, 0.0), (1410, 0.0), (1411, 0.0), (1413, 0.0), (1414, 0.0), (1416, 0.0), (1418, 0.0), (1420, 0.0), (1421, 0.0), (1423, 0.0), (1424, 0.0), (1426, 0.0), (1427, 0.0), (1429, 0.0), (1430, 0.0), (1433, 0.0), (1435, 0.0), (1441, 0.0), (1442, 0.0), (1444, 0.0), (1446, 0.0), (1449, 0.0), (1452, 0.0), (1453, 0.0), (1454, 0.0), (1455, 0.0), (1458, 0.0), (1460, 0.0), (1461, 0.0), (1462, 0.0), (1464, 0.0), (1466, 0.0), (1471, 0.0), (1474, 0.0), (1475, 0.0), (1476, 0.0), (1477, 0.0), (1478, 0.0), (1481, 0.0), (1483, 0.0), (1485, 0.0), (1487, 0.0), (1489, 0.0), (1492, 0.0), (1493, 0.0), (1497, 0.0), (1498, 0.0), (1499, 0.0), (1501, 0.0), (1504, 0.0), (1505, 0.0), (1508, 0.0), (1509, 0.0), (1511, 0.0), (1512, 0.0), (1516, 0.0), (1519, 0.0), (1520, 0.0), (1521, 0.0), (1522, 0.0), (1523, 0.0), (1524, 0.0), (1526, 0.0), (1527, 0.0), (1528, 0.0), (1530, 0.0), (1532, 0.0), (1533, 0.0), (1536, 0.0), (1537, 0.0), (1539, 0.0), (1540, 0.0), (1541, 0.0), (1543, 0.0), (1544, 0.0), (1545, 0.0), (1548, 0.0), (1549, 0.0), (1550, 0.0), (1552, 0.0), (1555, 0.0), (1556, 0.0), (1557, 0.0), (1559, 0.0), (1560, 0.0), (1561, 0.0), (1562, 0.0), (1563, 0.0), (1564, 0.0), (1565, 0.0), (1566, 0.0), (1567, 0.0), (1570, 0.0), (1571, 0.0), (1572, 0.0), (1574, 0.0), (1576, 0.0), (1578, 0.0), (1579, 0.0), (1580, 0.0), (1581, 0.0), (1582, 0.0), (1584, 0.0), (1585, 0.0), (1587, 0.0), (1590, 0.0), (1591, 0.0), (1593, 0.0), (1594, 0.0), (1595, 0.0), (1598, 0.0), (1599, 0.0), (1601, 0.0), (1602, 0.0), (1603, 0.0), (1605, 0.0), (1609, 0.0), (1612, 0.0), (1613, 0.0), (1614, 0.0), (1618, 0.0), (1619, 0.0), (1620, 0.0), (1621, 0.0), (1622, 0.0), (1623, 0.0), (1624, 0.0), (1627, 0.0), (1629, 0.0), (1630, 0.0), (1631, 0.0), (1632, 0.0), (1634, 0.0), (1638, 0.0), (1639, 0.0), (1640, 0.0), (1641, 0.0), (1644, 0.0), (1647, 0.0), (1648, 0.0), (1649, 0.0), (1655, 0.0), (1656, 0.0), (1658, 0.0), (1659, 0.0), (1660, 0.0), (1662, 0.0), (1665, 0.0), (1666, 0.0), (1668, 0.0), (1673, 0.0), (1674, 0.0), (1676, 0.0), (1677, 0.0), (1678, 0.0), (1679, 0.0), (1680, 0.0), (1681, 0.0), (1682, 0.0), (1685, 0.0), (1688, 0.0), (1689, 0.0), (1690, 0.0), (1691, 0.0), (1692, 0.0), (1693, 0.0), (1694, 0.0), (1695, 0.0), (1697, 0.0), (1698, 0.0), (1699, 0.0), (1700, 0.0), (1701, 0.0), (1704, 0.0), (1705, 0.0), (1706, 0.0), (1707, 0.0), (1708, 0.0), (1711, 0.0), (1712, 0.0), (1714, 0.0), (1716, 0.0), (1717, 0.0), (1718, 0.0), (1719, 0.0), (1722, 0.0), (1723, 0.0), (1724, 0.0), (1726, 0.0), (1729, 0.0), (1730, 0.0), (1731, 0.0), (1732, 0.0), (1736, 0.0), (1737, 0.0), (1739, 0.0), (1741, 0.0), (1744, 0.0), (1745, 0.0), (1746, 0.0), (1747, 0.0), (1748, 0.0), (1749, 0.0), (1751, 0.0), (1752, 0.0), (1754, 0.0), (1755, 0.0), (1756, 0.0), (1758, 0.0), (1759, 0.0), (1760, 0.0), (1761, 0.0), (1763, 0.0), (1764, 0.0), (1766, 0.0), (1767, 0.0), (1768, 0.0), (1769, 0.0), (1770, 0.0), (1772, 0.0), (1773, 0.0), (1775, 0.0), (1776, 0.0), (1778, 0.0), (1779, 0.0), (1781, 0.0), (1784, 0.0), (1787, 0.0), (1788, 0.0), (1789, 0.0), (1791, 0.0), (1792, 0.0), (1793, 0.0), (1796, 0.0), (1797, 0.0), (1799, 0.0), (1800, 0.0), (1801, 0.0), (1803, 0.0), (1804, 0.0), (1805, 0.0), (1806, 0.0), (1809, 0.0), (1810, 0.0), (1811, 0.0), (1812, 0.0), (1813, 0.0), (1814, 0.0), (1816, 0.0), (1818, 0.0), (1820, 0.0), (1822, 0.0), (1823, 0.0), (1824, 0.0), (1829, 0.0), (1831, 0.0), (1832, 0.0), (1833, 0.0), (1834, 0.0), (1835, 0.0), (1838, 0.0), (1839, 0.0), (1840, 0.0), (1842, 0.0), (1843, 0.0), (1846, 0.0), (1848, 0.0), (1849, 0.0), (1855, 0.0), (1856, 0.0), (1857, 0.0), (1859, 0.0), (1861, 0.0), (1862, 0.0), (1863, 0.0), (1866, 0.0), (1867, 0.0), (1869, 0.0), (1870, 0.0), (1871, 0.0), (1873, 0.0), (1875, 0.0), (1876, 0.0), (1878, 0.0), (1879, 0.0), (1881, 0.0), (1882, 0.0), (1883, 0.0), (1884, 0.0), (1885, 0.0), (1886, 0.0), (1887, 0.0), (1888, 0.0), (1889, 0.0), (1890, 0.0), (1891, 0.0), (1893, 0.0), (1895, 0.0), (1896, 0.0), (1898, 0.0), (1900, 0.0), (1901, 0.0), (1903, 0.0), (1904, 0.0), (1905, 0.0), (1906, 0.0), (1909, 0.0), (1911, 0.0), (1913, 0.0), (1915, 0.0), (1917, 0.0), (1921, 0.0), (1922, 0.0), (1923, 0.0), (1924, 0.0), (1926, 0.0), (1927, 0.0), (1928, 0.0), (1929, 0.0)]\n"
          ]
        }
      ]
    },
    {
      "cell_type": "code",
      "source": [
        "# print the name of similar movies based on the index\n",
        "# previously the title of the movie was used in order to find the index and now I will use the index of the movie to to find the title name (so opposite way)\n",
        "\n",
        "print('Movies suggested for you : \\n')\n",
        "\n",
        "i = 1\n",
        "\n",
        "for movie in sorted_similar_movies:\n",
        "  index = movie[0] # 0 represents the first value of the element from sorted_similar_movies (the index e.g. 68)\n",
        "  title_from_index = movies_data[movies_data.index == index]['title'].values[0]\n",
        "  \n",
        "  # first 30 movies most similar to 'Iron Man' movie inside for loop\n",
        "  if (i<31):\n",
        "    print(i, '.',title_from_index) # # '.' is used to separate printed list integer from index and title below\n",
        "    i+=1\n"
      ],
      "metadata": {
        "colab": {
          "base_uri": "https://localhost:8080/"
        },
        "id": "r-HVYc6LYAYC",
        "outputId": "afba840f-a722-4745-aa76-e3cf2fed0e4c"
      },
      "execution_count": 58,
      "outputs": [
        {
          "output_type": "stream",
          "name": "stdout",
          "text": [
            "Movies suggested for you : \n",
            "\n",
            "1 . Iron Man\n",
            "2 . Iron Man 2\n",
            "3 . Iron Man 3\n",
            "4 . The Avengers\n",
            "5 . Captain America: Civil War\n",
            "6 . Avengers: Age of Ultron\n",
            "7 . Tropic Thunder\n",
            "8 . X-Men: The Last Stand\n",
            "9 . X-Men: Days of Future Past\n",
            "10 . Gothika\n",
            "11 . X-Men\n",
            "12 . The Judge\n",
            "13 . X2\n",
            "14 . The Nativity Story\n",
            "15 . The Incredible Hulk\n",
            "16 . Lucky You\n",
            "17 . Captain America: The Winter Soldier\n",
            "18 . The Expendables 3\n",
            "19 . X-Men: Apocalypse\n",
            "20 . The Amazing Spider-Man 2\n",
            "21 . X-Men: First Class\n",
            "22 . The Hunting Party\n",
            "23 . Mortdecai\n",
            "24 . Sherlock Holmes\n",
            "25 . Deadpool\n",
            "26 . Sherlock Holmes: A Game of Shadows\n",
            "27 . Se7en\n",
            "28 . TRON: Legacy\n",
            "29 . K-PAX\n",
            "30 . Ant-Man\n"
          ]
        }
      ]
    },
    {
      "cell_type": "markdown",
      "source": [
        "Movie Recommendation System"
      ],
      "metadata": {
        "id": "JXvvCGQGcnoX"
      }
    },
    {
      "cell_type": "code",
      "source": [
        "# incorporating all the code together\n",
        "\n",
        "movie_name = input(' Enter your favorite movie name: ')\n",
        "\n",
        "list_of_all_titles = movies_data['title'].tolist()\n",
        "\n",
        "find_close_match = difflib.get_close_matches(movie_name, list_of_all_titles)\n",
        "\n",
        "close_match = find_close_match[0]\n",
        "\n",
        "index_of_the_movie = movies_data[movies_data.title == close_match]['index'].values[0]\n",
        "\n",
        "similarity_score = list(enumerate(similarity[index_of_the_movie]))\n",
        "\n",
        "sorted_similar_movies = sorted(similarity_score, key = lambda x:x[1], reverse = True)\n",
        "\n",
        "print('Movies suggested for you : \\n')\n",
        "\n",
        "i = 1\n",
        "\n",
        "for movie in sorted_similar_movies:\n",
        "  index = movie[0] # 0 represents the first value of the element from sorted_similar_movies (the index e.g. 68)\n",
        "  title_from_index = movies_data[movies_data.index == index]['title'].values[0]\n",
        "  \n",
        "  # first 30 movies most similar to 'Iron Man' movie inside for loop\n",
        "  if (i<31):\n",
        "    print(i, '.',title_from_index) # '.' is used to separate printed list integer from index and title below\n",
        "    i+=1\n"
      ],
      "metadata": {
        "colab": {
          "base_uri": "https://localhost:8080/"
        },
        "id": "k56mD8_HctnH",
        "outputId": "49dd73f5-f263-4ba2-84a4-fddca94401b4"
      },
      "execution_count": 59,
      "outputs": [
        {
          "output_type": "stream",
          "name": "stdout",
          "text": [
            " Enter your favorite movie name: avatar\n",
            "Movies suggested for you : \n",
            "\n",
            "1 . Avatar\n",
            "2 . Guardians of the Galaxy\n",
            "3 . Alien³\n",
            "4 . Clash of the Titans\n",
            "5 . Moonraker\n",
            "6 . The Right Stuff\n",
            "7 . Galaxy Quest\n",
            "8 . Star Trek Beyond\n",
            "9 . Shadow Conspiracy\n",
            "10 . Star Trek Into Darkness\n",
            "11 . Pocahontas\n",
            "12 . The Book of Life\n",
            "13 . The Astronaut's Wife\n",
            "14 . Snow White: A Tale of Terror\n",
            "15 . Wing Commander\n",
            "16 . Terminator Salvation\n",
            "17 . Sunshine\n",
            "18 . Planet of the Apes\n",
            "19 . Vantage Point\n",
            "20 . Gettysburg\n",
            "21 . Alien: Resurrection\n",
            "22 . Star Trek\n",
            "23 . The Iron Giant\n",
            "24 . Supernova\n",
            "25 . Treasure Planet\n",
            "26 . Colombiana\n",
            "27 . Men in Black II\n",
            "28 . Men in Black\n",
            "29 . Memoirs of an Invisible Man\n",
            "30 . The Losers\n"
          ]
        }
      ]
    }
  ]
}